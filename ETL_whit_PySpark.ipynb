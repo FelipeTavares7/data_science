{
  "nbformat": 4,
  "nbformat_minor": 0,
  "metadata": {
    "colab": {
      "provenance": [],
      "authorship_tag": "ABX9TyNjSJiDtLyMV3MGoNRJS1HO",
      "include_colab_link": true
    },
    "kernelspec": {
      "name": "python3",
      "display_name": "Python 3"
    },
    "language_info": {
      "name": "python"
    }
  },
  "cells": [
    {
      "cell_type": "markdown",
      "metadata": {
        "id": "view-in-github",
        "colab_type": "text"
      },
      "source": [
        "<a href=\"https://colab.research.google.com/github/FelipeTavares7/data_science_projects/blob/main/ETL_whit_PySpark.ipynb\" target=\"_parent\"><img src=\"https://colab.research.google.com/assets/colab-badge.svg\" alt=\"Open In Colab\"/></a>"
      ]
    },
    {
      "cell_type": "markdown",
      "source": [
        "# **ETL with PySpark**"
      ],
      "metadata": {
        "id": "iLLdI6397sda"
      }
    },
    {
      "cell_type": "markdown",
      "source": [
        "## Extract"
      ],
      "metadata": {
        "id": "teZCgoLz7xBT"
      }
    },
    {
      "cell_type": "code",
      "execution_count": null,
      "metadata": {
        "colab": {
          "base_uri": "https://localhost:8080/"
        },
        "id": "KgPhD10dcnjT",
        "outputId": "b0101ad0-ad6f-4f98-dc39-a318321f83d4"
      },
      "outputs": [
        {
          "output_type": "stream",
          "name": "stdout",
          "text": [
            "Collecting pyspark\n",
            "  Downloading pyspark-3.5.1.tar.gz (317.0 MB)\n",
            "\u001b[2K     \u001b[90m━━━━━━━━━━━━━━━━━━━━━━━━━━━━━━━━━━━━━━━━\u001b[0m \u001b[32m317.0/317.0 MB\u001b[0m \u001b[31m1.8 MB/s\u001b[0m eta \u001b[36m0:00:00\u001b[0m\n",
            "\u001b[?25h  Preparing metadata (setup.py) ... \u001b[?25l\u001b[?25hdone\n",
            "Requirement already satisfied: py4j==0.10.9.7 in /usr/local/lib/python3.10/dist-packages (from pyspark) (0.10.9.7)\n",
            "Building wheels for collected packages: pyspark\n",
            "  Building wheel for pyspark (setup.py) ... \u001b[?25l\u001b[?25hdone\n",
            "  Created wheel for pyspark: filename=pyspark-3.5.1-py2.py3-none-any.whl size=317488491 sha256=657fa161313196fa96e242ae9abbd8bc8f471d8ec0c6b593b07e324ff736894e\n",
            "  Stored in directory: /root/.cache/pip/wheels/80/1d/60/2c256ed38dddce2fdd93be545214a63e02fbd8d74fb0b7f3a6\n",
            "Successfully built pyspark\n",
            "Installing collected packages: pyspark\n",
            "Successfully installed pyspark-3.5.1\n"
          ]
        }
      ],
      "source": [
        "# Installing pyspark\n",
        "!pip install pyspark"
      ]
    },
    {
      "cell_type": "code",
      "source": [
        "# Import SparkSession\n",
        "from pyspark.sql import SparkSession"
      ],
      "metadata": {
        "id": "ztFYprMf4mi6"
      },
      "execution_count": null,
      "outputs": []
    },
    {
      "cell_type": "code",
      "source": [
        "# Create Session e app (instace)\n",
        "spark = SparkSession.builder.appName('sojaSensores').getOrCreate()"
      ],
      "metadata": {
        "id": "NCv_TwLh4vsB"
      },
      "execution_count": null,
      "outputs": []
    },
    {
      "cell_type": "code",
      "source": [
        "# Read and show df\n",
        "df = spark.read.format('csv').option('header', True).load('sensores-iot.csv')\n",
        "df.show(5)"
      ],
      "metadata": {
        "colab": {
          "base_uri": "https://localhost:8080/"
        },
        "id": "QQKUsu735qJc",
        "outputId": "8fcc429c-c7e1-4ba9-b34e-46b1dfbc015b"
      },
      "execution_count": null,
      "outputs": [
        {
          "output_type": "stream",
          "name": "stdout",
          "text": [
            "+---+-----------+-----------+--------+--------------------+-----------+-----------+\n",
            "|_c0|  device_id|temperature|humidity|           timestamp|   latitude|  longitude|\n",
            "+---+-----------+-----------+--------+--------------------+-----------+-----------+\n",
            "|  0|sensor-2231|         25|      49|2004-10-08 05:19:...| 39.0319385|-167.644666|\n",
            "|  1|sensor-3869|         17|      42|2010-06-16 20:35:...| 43.4913955|  76.084671|\n",
            "|  2|sensor-7079|         35|      58|2010-10-03 18:10:...|-39.9795415|-149.006886|\n",
            "|  3|sensor-1163|         15|      64|2005-10-10 11:38:...| 28.1871005|-112.581419|\n",
            "|  4|sensor-4483|         14|      65|2020-04-29 07:56:...| 89.2243515| -16.076939|\n",
            "+---+-----------+-----------+--------+--------------------+-----------+-----------+\n",
            "only showing top 5 rows\n",
            "\n"
          ]
        }
      ]
    },
    {
      "cell_type": "markdown",
      "source": [
        "## Transform"
      ],
      "metadata": {
        "id": "SWWGYI3d782W"
      }
    },
    {
      "cell_type": "code",
      "source": [
        "# Import functions\n",
        "from pyspark.sql import functions as F"
      ],
      "metadata": {
        "id": "AdmTUz3g6Xl1"
      },
      "execution_count": null,
      "outputs": []
    },
    {
      "cell_type": "code",
      "source": [
        "# Create and transform column 'date'\n",
        "df = df.withColumn('date', F.to_date(F.col('timestamp')))\n",
        "\n",
        "df.show(5)"
      ],
      "metadata": {
        "colab": {
          "base_uri": "https://localhost:8080/"
        },
        "id": "UWZpnN6qCUmZ",
        "outputId": "67146bc7-a9f9-47bc-facc-71a4a4355f5c"
      },
      "execution_count": null,
      "outputs": [
        {
          "output_type": "stream",
          "name": "stdout",
          "text": [
            "+---+-----------+-----------+--------+--------------------+-----------+-----------+----------+----+-----+---+\n",
            "|_c0|  device_id|temperature|humidity|           timestamp|   latitude|  longitude|      date|year|month|day|\n",
            "+---+-----------+-----------+--------+--------------------+-----------+-----------+----------+----+-----+---+\n",
            "|  0|sensor-2231|         25|      49|2004-10-08 05:19:...| 39.0319385|-167.644666|2004-10-08|2004|   10|  8|\n",
            "|  1|sensor-3869|         17|      42|2010-06-16 20:35:...| 43.4913955|  76.084671|2010-06-16|2010|    6| 16|\n",
            "|  2|sensor-7079|         35|      58|2010-10-03 18:10:...|-39.9795415|-149.006886|2010-10-03|2010|   10|  3|\n",
            "|  3|sensor-1163|         15|      64|2005-10-10 11:38:...| 28.1871005|-112.581419|2005-10-10|2005|   10| 10|\n",
            "|  4|sensor-4483|         14|      65|2020-04-29 07:56:...| 89.2243515| -16.076939|2020-04-29|2020|    4| 29|\n",
            "+---+-----------+-----------+--------+--------------------+-----------+-----------+----------+----+-----+---+\n",
            "only showing top 5 rows\n",
            "\n"
          ]
        }
      ]
    },
    {
      "cell_type": "code",
      "source": [
        "# Create columns 'year', 'month' and 'day'\n",
        "df = (df.withColumn('year', F.year(F.col('date')))\n",
        "        .withColumn('month', F.month(F.col('date')))\n",
        "        .withColumn('day', F.dayofmonth(F.col('date'))))\n",
        "\n",
        "df.show(5)"
      ],
      "metadata": {
        "colab": {
          "base_uri": "https://localhost:8080/"
        },
        "id": "zDFCW3npD7hG",
        "outputId": "f8e1bd77-901b-4247-f589-b23dcdbd6a05"
      },
      "execution_count": null,
      "outputs": [
        {
          "output_type": "stream",
          "name": "stdout",
          "text": [
            "+---+-----------+-----------+--------+--------------------+-----------+-----------+----------+----+-----+---+\n",
            "|_c0|  device_id|temperature|humidity|           timestamp|   latitude|  longitude|      date|year|month|day|\n",
            "+---+-----------+-----------+--------+--------------------+-----------+-----------+----------+----+-----+---+\n",
            "|  0|sensor-2231|         25|      49|2004-10-08 05:19:...| 39.0319385|-167.644666|2004-10-08|2004|   10|  8|\n",
            "|  1|sensor-3869|         17|      42|2010-06-16 20:35:...| 43.4913955|  76.084671|2010-06-16|2010|    6| 16|\n",
            "|  2|sensor-7079|         35|      58|2010-10-03 18:10:...|-39.9795415|-149.006886|2010-10-03|2010|   10|  3|\n",
            "|  3|sensor-1163|         15|      64|2005-10-10 11:38:...| 28.1871005|-112.581419|2005-10-10|2005|   10| 10|\n",
            "|  4|sensor-4483|         14|      65|2020-04-29 07:56:...| 89.2243515| -16.076939|2020-04-29|2020|    4| 29|\n",
            "+---+-----------+-----------+--------+--------------------+-----------+-----------+----------+----+-----+---+\n",
            "only showing top 5 rows\n",
            "\n"
          ]
        }
      ]
    },
    {
      "cell_type": "code",
      "source": [
        "# Mean of temperature\n",
        "mean_temp = df.select(F.mean(F.col('temperature'))).collect()[0][0]\n",
        "\n",
        "# Mean of humidity\n",
        "mean_humidity = df.select(F.mean(F.col('humidity'))).collect()[0][0]\n",
        "\n",
        "print('Mean temperature = ', mean_temp)\n",
        "print('Mean humidity = ', mean_humidity)"
      ],
      "metadata": {
        "colab": {
          "base_uri": "https://localhost:8080/"
        },
        "id": "1cZ8BAC_Fr3I",
        "outputId": "f5816ee5-955e-4028-d2f4-12ead441a155"
      },
      "execution_count": null,
      "outputs": [
        {
          "output_type": "stream",
          "name": "stdout",
          "text": [
            "Mean temperature =  22.491527\n",
            "Mean humidity =  55.033291\n"
          ]
        }
      ]
    },
    {
      "cell_type": "code",
      "source": [
        "# Fill null data with the mean\n",
        "df = df.fillna({'temperature': mean_temp, 'humidity': mean_humidity})"
      ],
      "metadata": {
        "id": "D2LjzS-QHQ-0"
      },
      "execution_count": null,
      "outputs": []
    },
    {
      "cell_type": "code",
      "source": [
        "'''\n",
        "Outilier detection in that case:\n",
        "  When the temperature is between 0 and 40, it's ok and use the temperature, otherwise use mean_temp\n",
        "'''\n",
        "\n",
        "df = df.withColumn('temperature', F.when(F.col('temperature').between(0, 40), F.col('temperature')).otherwise(F.lit(mean_temp)))\n",
        "\n",
        "df.show(5)"
      ],
      "metadata": {
        "colab": {
          "base_uri": "https://localhost:8080/"
        },
        "id": "hfztMNCtIyFB",
        "outputId": "5002f551-2453-4826-fd75-b81d3b1cf518"
      },
      "execution_count": null,
      "outputs": [
        {
          "output_type": "stream",
          "name": "stdout",
          "text": [
            "+---+-----------+-----------+--------+--------------------+-----------+-----------+----------+----+-----+---+\n",
            "|_c0|  device_id|temperature|humidity|           timestamp|   latitude|  longitude|      date|year|month|day|\n",
            "+---+-----------+-----------+--------+--------------------+-----------+-----------+----------+----+-----+---+\n",
            "|  0|sensor-2231|         25|      49|2004-10-08 05:19:...| 39.0319385|-167.644666|2004-10-08|2004|   10|  8|\n",
            "|  1|sensor-3869|         17|      42|2010-06-16 20:35:...| 43.4913955|  76.084671|2010-06-16|2010|    6| 16|\n",
            "|  2|sensor-7079|         35|      58|2010-10-03 18:10:...|-39.9795415|-149.006886|2010-10-03|2010|   10|  3|\n",
            "|  3|sensor-1163|         15|      64|2005-10-10 11:38:...| 28.1871005|-112.581419|2005-10-10|2005|   10| 10|\n",
            "|  4|sensor-4483|         14|      65|2020-04-29 07:56:...| 89.2243515| -16.076939|2020-04-29|2020|    4| 29|\n",
            "+---+-----------+-----------+--------+--------------------+-----------+-----------+----------+----+-----+---+\n",
            "only showing top 5 rows\n",
            "\n"
          ]
        }
      ]
    }
  ]
}